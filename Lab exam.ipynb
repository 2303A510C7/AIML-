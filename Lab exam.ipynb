{
  "nbformat": 4,
  "nbformat_minor": 0,
  "metadata": {
    "colab": {
      "provenance": [],
      "authorship_tag": "ABX9TyNmLOQzFstHhEvgEVn1mKdT",
      "include_colab_link": true
    },
    "kernelspec": {
      "name": "python3",
      "display_name": "Python 3"
    },
    "language_info": {
      "name": "python"
    }
  },
  "cells": [
    {
      "cell_type": "markdown",
      "metadata": {
        "id": "view-in-github",
        "colab_type": "text"
      },
      "source": [
        "<a href=\"https://colab.research.google.com/github/2303A510C7/AIML-/blob/main/Lab%20exam.ipynb\" target=\"_parent\"><img src=\"https://colab.research.google.com/assets/colab-badge.svg\" alt=\"Open In Colab\"/></a>"
      ]
    },
    {
      "cell_type": "code",
      "execution_count": null,
      "metadata": {
        "id": "OlY4XhAZ0gpS"
      },
      "outputs": [],
      "source": [
        "Assessing Mathematical Learning in Higher Education\n",
        "\n",
        "Q1: Identify the Math topic which is most hard to learn?\n",
        "\n",
        "Q2: List the top5 math sub-topics for the students?\n",
        "\n",
        "Q3. Identify the questions level most solved by the students?\n",
        "\n",
        "Q4: Name the country with most solved math problems?\n",
        "\n",
        "Q5: List top 10 keywords related to math topics most searched for?"
      ]
    },
    {
      "cell_type": "code",
      "source": [
        "import pandas as pd\n",
        "\n",
        "# Load the dataset\n",
        "file_path = '/content/MathE dataset (4).csv'  # Replace this with the path to your file\n",
        "math_data = pd.read_csv(file_path, delimiter=';', encoding='latin-1') # Changed the encoding to 'latin-1'\n",
        "\n",
        "# Q1: Identify the Math topic which is most hard to learn\n",
        "# Assuming harder topics have lower correct response rates\n",
        "topic_difficulty = math_data.groupby('Topic')['Type of Answer'].mean().sort_values()  # Type of Answer: 0 = incorrect, 1 = correct\n",
        "hardest_topic = topic_difficulty.idxmin()\n",
        "\n",
        "# Q2: List the top 5 math sub-topics for the students\n",
        "top_subtopics = math_data['Subtopic'].value_counts().head(5)\n",
        "\n",
        "# Q3: Identify the questions level most solved by the students\n",
        "most_solved_level = math_data['Question Level'].value_counts().idxmax()\n",
        "\n",
        "# Q4: Name the country with most solved math problems\n",
        "most_active_country = math_data['Student Country'].value_counts().idxmax()\n",
        "\n",
        "# Q5: List top 10 keywords related to math topics most searched for\n",
        "# Assuming \"Keywords\" column contains comma-separated keywords\n",
        "from collections import Counter\n",
        "keywords_series = math_data['Keywords'].dropna().str.split(',').explode()\n",
        "top_keywords = Counter(keywords_series).most_common(10)\n",
        "\n",
        "# Print the results\n",
        "print(f\"Q1: Hardest Math Topic: {hardest_topic}\")\n",
        "print(f\"Q2: Top 5 Math Sub-topics: {top_subtopics}\")\n",
        "print(f\"Q3: Most solved question level: {most_solved_level}\")\n",
        "print(f\"Q4: Country with most solved problems: {most_active_country}\")\n",
        "print(f\"Q5: Top 10 keywords: {top_keywords}\")"
      ],
      "metadata": {
        "colab": {
          "base_uri": "https://localhost:8080/"
        },
        "id": "Gcm8Wr274JHF",
        "outputId": "039e7c3e-bd0b-4209-8420-2362856c47ee"
      },
      "execution_count": 10,
      "outputs": [
        {
          "output_type": "stream",
          "name": "stdout",
          "text": [
            "Q1: Hardest Math Topic: Differentiation\n",
            "Q2: Top 5 Math Sub-topics: Subtopic\n",
            "Vector Spaces                                         2749\n",
            "Linear Transformations                                2127\n",
            "Complex Numbers                                        592\n",
            "Algebraic expressions, Equations, and Inequalities     496\n",
            "Linear Systems                                         420\n",
            "Name: count, dtype: int64\n",
            "Q3: Most solved question level: Basic\n",
            "Q4: Country with most solved problems: Portugal\n",
            "Q5: Top 10 keywords: [('Span', 1844), ('Subspace', 1465), ('Linear combination', 1254), ('Basis', 1112), ('Linear application', 824), ('Linearity', 733), ('Range', 713), ('Kernel', 713), ('Dimension', 615), ('Isomorphism', 587)]\n"
          ]
        }
      ]
    }
  ]
}